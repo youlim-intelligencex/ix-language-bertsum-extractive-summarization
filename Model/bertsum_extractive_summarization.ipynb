{
  "nbformat": 4,
  "nbformat_minor": 0,
  "metadata": {
    "colab": {
      "name": "bertsum-extractive-summarization.ipynb",
      "provenance": [],
      "authorship_tag": "ABX9TyOK1gX/shXHhWgBiM8Pzjh/",
      "include_colab_link": true
    },
    "kernelspec": {
      "name": "python3",
      "display_name": "Python 3"
    },
    "language_info": {
      "name": "python"
    }
  },
  "cells": [
    {
      "cell_type": "markdown",
      "metadata": {
        "id": "view-in-github",
        "colab_type": "text"
      },
      "source": [
        "<a href=\"https://colab.research.google.com/github/IntelligenceX-ai/ix-language-bertsum-extractive-summarization/blob/feature-first_implementation/Model/bertsum_extractive_summarization.ipynb\" target=\"_parent\"><img src=\"https://colab.research.google.com/assets/colab-badge.svg\" alt=\"Open In Colab\"/></a>"
      ]
    },
    {
      "cell_type": "markdown",
      "metadata": {
        "id": "i_BwmV5Rdfld"
      },
      "source": [
        "# **Extractive Summarization with BERT**\n",
        "\n",
        "Reference: https://skimai.com/tutorial-how-to-fine-tune-bert-for-summarization/"
      ]
    },
    {
      "cell_type": "code",
      "metadata": {
        "id": "oGgyNRcldclN"
      },
      "source": [
        ""
      ],
      "execution_count": null,
      "outputs": []
    }
  ]
}